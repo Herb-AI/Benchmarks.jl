{
 "cells": [
  {
   "cell_type": "code",
   "execution_count": null,
   "metadata": {},
   "outputs": [],
   "source": [
    "using HerbGrammar, HerbData, HerbSearch, HerbInterpret, HerbBenchmarks\n",
    "\n",
    "import HerbInterpret.interpret"
   ]
  },
  {
   "cell_type": "markdown",
   "metadata": {},
   "source": [
    "The original benchmark uses a wide set of instructions, which are divided into subgroups. The instructions were originally written in Clojure and can be found [here](https://github.com/thelmuth/Clojush/tree/psb2-v1.0/src/clojush/instructions). \n",
    "\n",
    "We translated these to Julia functions using ChatGPT with the prompt: \"Can you give me julia functions for the following clojure definitions:\". Each of the instruction sets can be found in the `grammars` directory. We create a `cfgrammar` for each set, so they can be imported individually. "
   ]
  },
  {
   "cell_type": "code",
   "execution_count": null,
   "metadata": {},
   "outputs": [],
   "source": [
    "include(\"grammars/grammar_char.jl\")\n",
    "include(\"grammars/grammar_gtm.jl\")\n",
    "include(\"grammars/grammar_bool.jl\")\n",
    "include(\"grammars/grammar_numbers.jl\")\n",
    "include(\"grammars/grammar_string.jl\")\n",
    "include(\"grammars/grammar_rand.jl\")"
   ]
  },
  {
   "cell_type": "code",
   "execution_count": null,
   "metadata": {},
   "outputs": [],
   "source": [
    "g_char = @cfgrammar begin\n",
    "    State = char_allfromstring | char_fromfloat | char_fromfloat | char_isletter | char_isdigit | char_iswhitespace | char_lowercase | char_uppercase\n",
    "end\n",
    "\n",
    "g_gtm = @cfgrammar begin\n",
    "    State = init_gtm | ensure_instruction_map | load_track | dump_track | trace | gtm_left | gtm_right | gtm_inc_delay | gtm_dec_delay | gtm_dub1\n",
    "end\n",
    "\n",
    "g_bool = @cfgrammar begin\n",
    "    State = boolean_and | boolean_or | boolean_xor | boolean_not | boolean_invert_first_then_and | boolean_invert_second_then_and | boolean_fromfloat | boolean_fromfloat\n",
    "end\n",
    "\n",
    "g_integer = @cfgrammar begin\n",
    "    State = integer_add | integer_sub | integer_mult | integer_div | integer_mod | integer_lt | integer_gt | integer_lte | integer_gte | integer_fromboolean | integer_fromfloat | integer_fromstring | integer_fromchar | integer_min | integer_max | integer_inc | integer_dec | integer_abs | integer_negate | integer_pow\n",
    "end\n",
    "\n",
    "g_float = @cfgrammar begin\n",
    "    State = float_add | float_sub | float_mult | float_div | float_mod | float_lt | float_gt | float_lte | float_gte | float_fromboolean | float_fromfloat | float_fromstring | float_fromchar | float_min | float_max | float_inc | float_dec | float_abs | float_negate | float_pow | float_arctan | float_arccos | float_arcsin | float_floor | float_ceiling | float_log10 | float_log2 | float_square | float_sqrt | float_tan | float_cos | float_sin\n",
    "end\n",
    "\n",
    "g_string = @cfgrammar begin\n",
    "    State = string_frominteger | string_fromfloat | string_fromchar | string_fromboolean | string_concat | string_conjchar | string_take | string_substring | string_first | string_last | string_nth | string_rest | string_butlast | string_length | string_reverse | string_parse_to_chars | string_split | string_emptystring | string_containschar | string_indexofchar | string_occurrencesofchar | string_replace | string_replacefirst | string_replacechar | string_replacefirstchar | string_removechar | string_setchar | string_capitalize | string_uppercase | string_lowercase | exec_string_iterate | string_sort | string_includes | string_indexof\n",
    "end\n",
    "\n",
    "g_random = @cfgrammar begin\n",
    "    State = boolean_rand | float_rand| integer_rand | string_rand | code_rand | code_rand_atom | char_rand\n",
    "end\n"
   ]
  },
  {
   "cell_type": "code",
   "execution_count": null,
   "metadata": {},
   "outputs": [],
   "source": [
    "function interpret(tab::SymbolTable, ex::Expr)\n",
    "    if ex.head == :call\n",
    "        if ex.args[1] in keys(tab)\n",
    "            if length(args) > 1\n",
    "                println(\"next step\")\n",
    "                return interpret(tab, ex.args[2])\n",
    "            else\n",
    "                println(\"execute\")\n",
    "                return tab[ex.args[1]](tab)\n",
    "            end\n",
    "        else \n",
    "            throw(ArgumentError(\"Argument $(ex.args[1]) not present in symbol table.\"))\n",
    "        end\n",
    "    else\n",
    "        throw(Error(\"Expression type not supported: $(ex.head)\"))\n",
    "    end\n",
    "end"
   ]
  },
  {
   "cell_type": "markdown",
   "metadata": {},
   "source": [
    "# Small example\n",
    "\n",
    "This creates a small example of how to use the grammar. We can merge different different grammars together, each should be annotated by its name (e.g., `Dict{Symbol, Any}(:char => SymbolTable(g_char))`).\n",
    "\n",
    "Then, we create an input dictionary (e.g., `Dict(:input => \"a\")`), turn it into a state using `init_gtm` and finally merge it with the grammar dictionaries. \n",
    "\n",
    "Finally, we create an example of a program and interpret it. "
   ]
  },
  {
   "cell_type": "code",
   "execution_count": null,
   "metadata": {},
   "outputs": [],
   "source": [
    "tab_char = Dict{Symbol, Any}(:char => SymbolTable(g_char))\n",
    "tab_gtm = SymbolTable(g_gtm)\n",
    "tab = merge(tab_char, tab_gtm)\n",
    "input = Dict(:input => \"a\")\n",
    "input = init_gtm(input)\n",
    "input = merge(tab, input)\n",
    "ex = :(char_isletter()) # should be true\n",
    "\n",
    "interpret(input, ex)"
   ]
  },
  {
   "cell_type": "markdown",
   "metadata": {},
   "source": [
    "# Test case\n",
    "\n",
    "We add a test with one of the benchmark problems `coin_sums`. We use the import script to get the data. "
   ]
  },
  {
   "cell_type": "code",
   "execution_count": null,
   "metadata": {},
   "outputs": [],
   "source": [
    "include(\"retrieve_all_tasks.jl\")\n",
    "write_psb2_problems_to_file([\"coin-sums\"], \"edge\")\n",
    "include(\"datasets/coin-sums/coin_sumsdata.jl\")\n",
    "\n",
    "tab = merge(SymbolTable(g_gtm), merge(SymbolTable(g_integer), merge(SymbolTable(g_string), SymbolTable(g_char))))\n",
    "println(tab)\n",
    "\n",
    "ex = problem_coin_sums.examples[1]\n",
    "\n",
    "res = interpret(tab, ex)\n",
    "println(\"Res: \", res)\n"
   ]
  }
 ],
 "metadata": {
  "kernelspec": {
   "display_name": "Julia 1.9.3",
   "language": "julia",
   "name": "julia-1.9"
  },
  "language_info": {
   "file_extension": ".jl",
   "mimetype": "application/julia",
   "name": "julia",
   "version": "1.9.3"
  }
 },
 "nbformat": 4,
 "nbformat_minor": 2
}
