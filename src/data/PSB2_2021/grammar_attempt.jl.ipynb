{
 "cells": [
  {
   "cell_type": "code",
   "execution_count": 1,
   "metadata": {},
   "outputs": [],
   "source": [
    "using HerbGrammar, HerbData, HerbSearch, HerbInterpret, HerbBenchmarks\n",
    "\n",
    "import HerbInterpret.interpret"
   ]
  },
  {
   "cell_type": "code",
   "execution_count": 2,
   "metadata": {},
   "outputs": [
    {
     "data": {
      "text/plain": [
       "gtm_dub1 (generic function with 1 method)"
      ]
     },
     "metadata": {},
     "output_type": "display_data"
    }
   ],
   "source": [
    "include(\"grammar_char.jl\")\n",
    "include(\"grammar_gtm.jl\")"
   ]
  },
  {
   "cell_type": "code",
   "execution_count": 5,
   "metadata": {},
   "outputs": [],
   "source": [
    "function isnotuppercase(x::Char)\n",
    "    return !isuppercase(x)\n",
    "end\n",
    "\n",
    "g_char = @cfgrammar begin\n",
    "    State = char_allfromstring | char_frominteger | char_fromfloat | char_isletter | char_isdigit | char_iswhitespace | char_lowercase | char_uppercase\n",
    "end\n",
    "\n",
    "g_gtm = @cfgrammar begin\n",
    "    State = init_gtm | ensure_instruction_map | load_track | dump_track | trace | gtm_left | gtm_right | gtm_inc_delay | gtm_dec_delay | gtm_dub1\n",
    "end\n",
    "\n",
    "function interpret(tab::SymbolTable, ex::Expr)\n",
    "    \"\"\"\n",
    "    Attempt at an interpreter, not complete.\n",
    "    \"\"\"\n",
    "    args = ex.args\n",
    "    input = tab[:input]\n",
    "    index = tab[:gtm][:position]\n",
    "\n",
    "    if ex.head == :call\n",
    "        if ex.args[1] in keys(tab)\n",
    "            if length(args) > 1\n",
    "                interpret(tab, ex.args[2])\n",
    "            else\n",
    "                res = tab[ex.args[1]](tab)\n",
    "                println(res)\n",
    "            end\n",
    "        end\n",
    "    elseif ex.head == :while\n",
    "        # TODO: implement while loop\n",
    "    elseif ex.head == \n",
    "        println(\"if statement\")\n",
    "        if interpret(tab, args[1])\n",
    "            return interpret(tab, args[2])\n",
    "        else\n",
    "            return interpret(tab, args[3])\n",
    "        end\n",
    "    else\n",
    "        error(\"Expression type not supported\")\n",
    "    end\n",
    "end\n",
    "\n",
    "tab_char = Dict{Symbol, Any}(:char => SymbolTable(g_char))\n",
    "tab_gtm = SymbolTable(g_gtm)\n",
    "tab = merge(tab_char, tab_gtm)\n",
    "input = Dict(:input => \"a\")\n",
    "input = init_gtm(input)\n",
    "input = merge(tab, input)\n",
    "ex = :(char_isletter()) # should be true\n",
    "\n",
    "interpret(input, ex)"
   ]
  }
 ],
 "metadata": {
  "kernelspec": {
   "display_name": "Julia 1.9.2",
   "language": "julia",
   "name": "julia-1.9"
  },
  "language_info": {
   "file_extension": ".jl",
   "mimetype": "application/julia",
   "name": "julia",
   "version": "1.9.2"
  }
 },
 "nbformat": 4,
 "nbformat_minor": 2
}
