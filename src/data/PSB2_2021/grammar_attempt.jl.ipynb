{
 "cells": [
  {
   "cell_type": "code",
   "execution_count": 1,
   "metadata": {},
   "outputs": [],
   "source": [
    "using HerbGrammar, HerbData, HerbSearch, HerbInterpret, HerbBenchmarks\n",
    "\n",
    "import HerbInterpret.interpret"
   ]
  },
  {
   "cell_type": "markdown",
   "metadata": {},
   "source": [
    "The original benchmark uses a wide set of instructions, which are divided into subgroups. The instructions were originally written in Clojure and can be found [here](https://github.com/thelmuth/Clojush/tree/psb2-v1.0/src/clojush/instructions). \n",
    "\n",
    "We translated these to Julia functions using ChatGPT with the prompt: \"Can you give me julia functions for the following clojure definitions:\". Each of the instruction sets can be found in the `grammars` directory. We create a `cfgrammar` for each set, so they can be imported individually. "
   ]
  },
  {
   "cell_type": "code",
   "execution_count": 2,
   "metadata": {},
   "outputs": [
    {
     "ename": "SystemError",
     "evalue": "SystemError: opening file \"/Users/issahanou/Work/code/HerbBenchmarks/src/data/PSB2_2021/grammars/grammar_rand.jl\": No such file or directory",
     "output_type": "error",
     "traceback": [
      "SystemError: opening file \"/Users/issahanou/Work/code/HerbBenchmarks/src/data/PSB2_2021/grammars/grammar_rand.jl\": No such file or directory\n",
      "\n",
      "Stacktrace:\n",
      "  [1] systemerror(p::String, errno::Int32; extrainfo::Nothing)\n",
      "    @ Base ./error.jl:176\n",
      "  [2] #systemerror#82\n",
      "    @ ./error.jl:175 [inlined]\n",
      "  [3] systemerror\n",
      "    @ ./error.jl:175 [inlined]\n",
      "  [4] open(fname::String; lock::Bool, read::Nothing, write::Nothing, create::Nothing, truncate::Nothing, append::Nothing)\n",
      "    @ Base ./iostream.jl:293\n",
      "  [5] open\n",
      "    @ ./iostream.jl:275 [inlined]\n",
      "  [6] open(f::Base.var\"#418#419\"{String}, args::String; kwargs::Base.Pairs{Symbol, Union{}, Tuple{}, NamedTuple{(), Tuple{}}})\n",
      "    @ Base ./io.jl:393\n",
      "  [7] open\n",
      "    @ ./io.jl:392 [inlined]\n",
      "  [8] read\n",
      "    @ ./io.jl:473 [inlined]\n",
      "  [9] _include(mapexpr::Function, mod::Module, _path::String)\n",
      "    @ Base ./loading.jl:1959\n",
      " [10] include(fname::String)\n",
      "    @ Base.MainInclude ./client.jl:478\n",
      " [11] top-level scope\n",
      "    @ ~/Work/code/HerbBenchmarks/src/data/PSB2_2021/grammar_attempt.jl.ipynb:6"
     ]
    }
   ],
   "source": [
    "include(\"grammars/grammar_char.jl\")\n",
    "include(\"grammars/grammar_gtm.jl\")\n",
    "include(\"grammars/grammar_bool.jl\")\n",
    "include(\"grammars/grammar_numbers.jl\")\n",
    "include(\"grammars/grammar_string.jl\")\n",
    "include(\"grammars/grammar_rand.jl\")"
   ]
  },
  {
   "cell_type": "code",
   "execution_count": 3,
   "metadata": {},
   "outputs": [
    {
     "data": {
      "text/plain": [
       "1: State = boolean_rand\n",
       "2: State = float_rand\n",
       "3: State = integer_rand\n",
       "4: State = string_rand\n",
       "5: State = code_rand\n",
       "6: State = code_rand_atom\n",
       "7: State = char_rand\n"
      ]
     },
     "metadata": {},
     "output_type": "display_data"
    }
   ],
   "source": [
    "g_char = @cfgrammar begin\n",
    "    State = char_allfromstring | char_fromfloat | char_fromfloat | char_isletter | char_isdigit | char_iswhitespace | char_lowercase | char_uppercase\n",
    "end\n",
    "\n",
    "g_gtm = @cfgrammar begin\n",
    "    State = init_gtm | ensure_instruction_map | load_track | dump_track | trace | gtm_left | gtm_right | gtm_inc_delay | gtm_dec_delay | gtm_dub1\n",
    "end\n",
    "\n",
    "g_bool = @cfgrammar begin\n",
    "    State = boolean_and | boolean_or | boolean_xor | boolean_not | boolean_invert_first_then_and | boolean_invert_second_then_and | boolean_fromfloat | boolean_fromfloat\n",
    "end\n",
    "\n",
    "g_integer = @cfgrammar begin\n",
    "    State = integer_add | integer_sub | integer_mult | integer_div | integer_mod | integer_lt | integer_gt | integer_lte | integer_gte | integer_fromboolean | integer_fromfloat | integer_fromstring | integer_fromchar | integer_min | integer_max | integer_inc | integer_dec | integer_abs | integer_negate | integer_pow\n",
    "end\n",
    "\n",
    "g_float = @cfgrammar begin\n",
    "    State = float_add | float_sub | float_mult | float_div | float_mod | float_lt | float_gt | float_lte | float_gte | float_fromboolean | float_fromfloat | float_fromstring | float_fromchar | float_min | float_max | float_inc | float_dec | float_abs | float_negate | float_pow | float_arctan | float_arccos | float_arcsin | float_floor | float_ceiling | float_log10 | float_log2 | float_square | float_sqrt | float_tan | float_cos | float_sin\n",
    "end\n",
    "\n",
    "g_string = @cfgrammar begin\n",
    "    State = string_frominteger | string_fromfloat | string_fromchar | string_fromboolean | string_concat | string_conjchar | string_take | string_substring | string_first | string_last | string_nth | string_rest | string_butlast | string_length | string_reverse | string_parse_to_chars | string_split | string_emptystring | string_containschar | string_indexofchar | string_occurrencesofchar | string_replace | string_replacefirst | string_replacechar | string_replacefirstchar | string_removechar | string_setchar | string_capitalize | string_uppercase | string_lowercase | exec_string_iterate | string_sort | string_includes | string_indexof\n",
    "end\n",
    "\n",
    "g_random = @cfgrammar begin\n",
    "    State = boolean_rand | float_rand| integer_rand | string_rand | code_rand | code_rand_atom | char_rand\n",
    "end\n"
   ]
  },
  {
   "cell_type": "code",
   "execution_count": 4,
   "metadata": {},
   "outputs": [
    {
     "data": {
      "text/plain": [
       "interpret (generic function with 5 methods)"
      ]
     },
     "metadata": {},
     "output_type": "display_data"
    }
   ],
   "source": [
    "function interpret(tab::SymbolTable, ex::Expr)\n",
    "    if ex.head == :call\n",
    "        if ex.args[1] in keys(tab)\n",
    "            if length(args) > 1\n",
    "                println(\"next step\")\n",
    "                return interpret(tab, ex.args[2])\n",
    "            else\n",
    "                println(\"execute\")\n",
    "                return tab[ex.args[1]](tab)\n",
    "            end\n",
    "        else \n",
    "            throw(ArgumentError(\"Argument $(ex.args[1]) not present in symbol table.\"))\n",
    "        end\n",
    "    else\n",
    "        throw(Error(\"Expression type not supported: $(ex.head)\"))\n",
    "    end\n",
    "end"
   ]
  },
  {
   "cell_type": "markdown",
   "metadata": {},
   "source": [
    "# Small example\n",
    "\n",
    "This creates a small example of how to use the grammar. We can merge different different grammars together, each should be annotated by its name (e.g., `Dict{Symbol, Any}(:char => SymbolTable(g_char))`).\n",
    "\n",
    "Then, we create an input dictionary (e.g., `Dict(:input => \"a\")`), turn it into a state using `init_gtm` and finally merge it with the grammar dictionaries. \n",
    "\n",
    "Finally, we create an example of a program and interpret it. "
   ]
  },
  {
   "cell_type": "code",
   "execution_count": 5,
   "metadata": {},
   "outputs": [
    {
     "ename": "ArgumentError",
     "evalue": "ArgumentError: Argument char_isletter not present in symbol table.",
     "output_type": "error",
     "traceback": [
      "ArgumentError: Argument char_isletter not present in symbol table.\n",
      "\n",
      "Stacktrace:\n",
      " [1] interpret(tab::Dict{Symbol, Any}, ex::Expr)\n",
      "   @ Main ~/Work/code/HerbBenchmarks/src/data/PSB2_2021/grammar_attempt.jl.ipynb:12\n",
      " [2] top-level scope\n",
      "   @ ~/Work/code/HerbBenchmarks/src/data/PSB2_2021/grammar_attempt.jl.ipynb:9"
     ]
    }
   ],
   "source": [
    "tab_char = Dict{Symbol, Any}(:char => SymbolTable(g_char))\n",
    "tab_gtm = SymbolTable(g_gtm)\n",
    "tab = merge(tab_char, tab_gtm)\n",
    "input = Dict(:input => \"a\")\n",
    "input = init_gtm(input)\n",
    "input = merge(tab, input)\n",
    "ex = :(char_isletter()) # should be true\n",
    "\n",
    "interpret(input, ex)"
   ]
  },
  {
   "cell_type": "markdown",
   "metadata": {},
   "source": [
    "# Test case\n",
    "\n",
    "We add a test with one of the benchmark problems `coin_sums`. We use the import script to get the data. "
   ]
  },
  {
   "cell_type": "code",
   "execution_count": 6,
   "metadata": {},
   "outputs": [
    {
     "name": "stderr",
     "output_type": "stream",
     "text": [
      "┌ Info: Running `conda config --set pip_interop_enabled true --file /Users/issahanou/.julia/conda/3/aarch64/condarc-julia.yml` in root environment\n",
      "└ @ Conda /Users/issahanou/.julia/packages/Conda/2lg2O/src/Conda.jl:127\n"
     ]
    },
    {
     "name": "stderr",
     "output_type": "stream",
     "text": [
      "┌ Info: Running `pip install psb2` in root environment\n",
      "└ @ Conda /Users/issahanou/.julia/packages/Conda/2lg2O/src/Conda.jl:490\n"
     ]
    },
    {
     "name": "stdout",
     "output_type": "stream",
     "text": [
      "Requirement already satisfied: psb2 in /Users/issahanou/.julia/conda/3/aarch64/lib/python3.10/site-packages (1.1.1)\n",
      "Requirement already satisfied: requests in /Users/issahanou/.julia/conda/3/aarch64/lib/python3.10/site-packages (from psb2) (2.31.0)\n",
      "Requirement already satisfied: charset-normalizer<4,>=2 in /Users/issahanou/.julia/conda/3/aarch64/lib/python3.10/site-packages (from requests->psb2) (3.3.0)\n",
      "Requirement already satisfied: idna<4,>=2.5 in /Users/issahanou/.julia/conda/3/aarch64/lib/python3.10/site-packages (from requests->psb2) (3.4)\n",
      "Requirement already satisfied: urllib3<3,>=1.21.1 in /Users/issahanou/.julia/conda/3/aarch64/lib/python3.10/site-packages (from requests->psb2) (2.0.6)\n",
      "Requirement already satisfied: certifi>=2017.4.17 in /Users/issahanou/.julia/conda/3/aarch64/lib/python3.10/site-packages (from requests->psb2) (2023.7.22)\n"
     ]
    },
    {
     "name": "stdout",
     "output_type": "stream",
     "text": [
      "Dict{Symbol, Any}("
     ]
    },
    {
     "name": "stdout",
     "output_type": "stream",
     "text": [
      ":string_substring => string_substring, :integer_fromchar => integer_fromchar, :init_gtm => init_gtm, :string_rest => string_rest, :string_reverse => string_reverse, :string_indexof => string_indexof, :dump_track => dump_track, :trace => trace, :string_split => string_split, :string_uppercase => string_uppercase, :char_uppercase => char_uppercase, :string_concat => string_concat, :integer_lt => var\"#23#24\"{Symbol, typeof(<)}(:integer, <), :string_take => string_take, :string_replacefirst => string_replacefirst, :integer_max => var\"#27#28\"{Symbol}(:integer), :string_parse_to_chars => string_parse_to_chars, :string_length => string_length, :integer_gte => var\"#23#24\"{Symbol, typeof(>=)}(:integer, >=), :integer_dec => integer_dec, :gtm_left => gtm_left, :integer_mod => var\"#21#22\"{Symbol}(:integer), :string_occurrencesofchar => string_occurrencesofchar, :gtm_dec_delay => gtm_dec_delay, :string_fromboolean => string_fromboolean, :char_lowercase => char_lowercase, :integer_sub => var\"#15#16\"{Symbol}(:integer), :string_last => string_last, :string_fromfloat => string_fromfloat, :integer_min => var\"#25#26\"{Symbol}(:integer), :gtm_right => gtm_right, :string_butlast => string_butlast, :string_capitalize => string_capitalize, :integer_inc => integer_inc, :string_lowercase => string_lowercase, :integer_div => var\"#19#20\"{Symbol}(:integer), :char_isdigit => char_isdigit, :char_isletter => char_isletter, :integer_fromstring => integer_fromstring, :integer_fromfloat => integer_fromfloat, :integer_gt => var\"#23#24\"{Symbol, typeof(>)}(:integer, >), :gtm_dub1 => gtm_dub1, :string_conjchar => string_conjchar, :string_indexofchar => string_indexofchar, :char_fromfloat => char_fromfloat, :integer_pow => var\"#33#34\"{Symbol}(:integer), :load_track => load_track, :string_emptystring => string_emptystring, :exec_string_iterate => exec_string_iterate, :string_frominteger => string_frominteger, :integer_lte => var\"#23#24\"{Symbol, typeof(<=)}(:integer, <=), :integer_mult => var\"#17#18\"{Symbol}(:integer), :string_replacefirstchar => string_replacefirstchar, :char_allfromstring => char_allfromstring, :integer_abs => var\"#31#32\"{Symbol}(:integer), :string_first => string_first, :string_nth => string_nth, :string_removechar => string_removechar, :integer_negate => var\"#29#30\"{Symbol}(:integer), :string_fromchar => string_fromchar, :string_sort => string_sort, :string_containschar => string_containschar, :string_replace => string_replace, :string_setchar => string_setchar, :string_replacechar => string_replacechar, :ensure_instruction_map => ensure_instruction_map, :integer_add => var\"#13#14\"{Symbol}(:integer), :integer_fromboolean => integer_fromboolean, :string_includes => string_includes, :char_iswhitespace => char_iswhitespace, :gtm_inc_delay => gtm_inc_delay)\n",
      "Res: IOExample"
     ]
    },
    {
     "name": "stdout",
     "output_type": "stream",
     "text": [
      "(Dict{Symbol, Any}(:input1 => 1), Dict{Symbol, Any}(:output1 => 1, :output4 => 0, :output3 => 0, :output2 => 0))\n"
     ]
    }
   ],
   "source": [
    "include(\"retrieve_all_tasks.jl\")\n",
    "write_psb2_problems_to_file([\"coin-sums\"], \"edge\")\n",
    "include(\"datasets/coin-sums/coin_sumsdata.jl\")\n",
    "\n",
    "tab = merge(SymbolTable(g_gtm), merge(SymbolTable(g_integer), merge(SymbolTable(g_string), SymbolTable(g_char))))\n",
    "println(tab)\n",
    "\n",
    "ex = problem_coin_sums.examples[1]\n",
    "\n",
    "res = interpret(tab, ex)\n",
    "println(\"Res: \", res)\n"
   ]
  }
 ],
 "metadata": {
  "kernelspec": {
   "display_name": "Julia 1.9.3",
   "language": "julia",
   "name": "julia-1.9"
  },
  "language_info": {
   "file_extension": ".jl",
   "mimetype": "application/julia",
   "name": "julia",
   "version": "1.9.3"
  }
 },
 "nbformat": 4,
 "nbformat_minor": 2
}
