{
 "cells": [
  {
   "cell_type": "code",
   "execution_count": 1,
   "metadata": {},
   "outputs": [],
   "source": [
    "\n",
    "using HerbGrammar, HerbData, HerbSearch, HerbInterpret, HerbBenchmarks\n",
    "\n",
    "import HerbInterpret.interpret"
   ]
  },
  {
   "cell_type": "markdown",
   "metadata": {},
   "source": [
    "The original benchmark uses a wide set of instructions, which are divided into subgroups. The instructions were originally written in Clojure and can be found [here](https://github.com/thelmuth/Clojush/tree/psb2-v1.0/src/clojush/instructions). \n",
    "\n",
    "We translated these to Julia functions using ChatGPT with the prompt: \"Can you give me julia functions for the following clojure definitions:\". Each of the instruction sets can be found in the `grammars` directory. We create a `cfgrammar` for each set, so they can be imported individually. "
   ]
  },
  {
   "cell_type": "code",
   "execution_count": 2,
   "metadata": {},
   "outputs": [
    {
     "name": "stderr",
     "output_type": "stream",
     "text": [
      "WARNING: redefinition of constant literals. This may fail, cause incorrect answers, or produce other errors.\n"
     ]
    },
    {
     "data": {
      "text/plain": [
       "char_rand (generic function with 1 method)"
      ]
     },
     "metadata": {},
     "output_type": "display_data"
    }
   ],
   "source": [
    "include(\"grammars/grammar_char.jl\")\n",
    "include(\"grammars/grammar_gtm.jl\")\n",
    "include(\"grammars/grammar_bool.jl\")\n",
    "include(\"grammars/grammar_numbers.jl\")\n",
    "include(\"grammars/grammar_string.jl\")\n",
    "include(\"grammars/grammar_random.jl\")"
   ]
  },
  {
   "cell_type": "code",
   "execution_count": 3,
   "metadata": {},
   "outputs": [
    {
     "data": {
      "text/plain": [
       "make_input_output_grammar (generic function with 2 methods)"
      ]
     },
     "metadata": {},
     "output_type": "display_data"
    }
   ],
   "source": [
    "g_random = @csgrammar begin\n",
    "    Start = State\n",
    "    State = make_stacks()\n",
    "    State = boolean_rand(State)\n",
    "    State = float_rand(State)\n",
    "    State = integer_rand(State)\n",
    "    State = string_rand(State)\n",
    "    State = code_rand(State)\n",
    "    State = code_rand_atom(State)\n",
    "    State = char_rand(State)\n",
    "    # State = output1(:output1, State)\n",
    "    # State = output2(:output1, State)\n",
    "end\n",
    "\n",
    "g_char = @csgrammar begin\n",
    "    Start = State\n",
    "    State = make_stacks()\n",
    "    State = char_allfromstring(State)\n",
    "    State = char_fromfloat(State)\n",
    "    State = char_fromfloat(State)\n",
    "    State = char_isletter(State)\n",
    "    State = char_isdigit(State)\n",
    "    State = char_iswhitespace(State)\n",
    "    State = char_lowercase(State)\n",
    "    State = char_uppercase(State)\n",
    "end\n",
    "\n",
    "g_gtm = @csgrammar begin\n",
    "    Start = State\n",
    "    State = make_stacks()\n",
    "    State = ensure_instruction_map(State)\n",
    "    State = load_track(State)\n",
    "    State = dump_track(State)\n",
    "    State = trace(State)\n",
    "    State = gtm_left(State)\n",
    "    State = gtm_right(State)\n",
    "    State = gtm_inc_delay(State)\n",
    "    State = gtm_dec_delay(State)\n",
    "    State = gtm_dub1(State)\n",
    "end\n",
    "\n",
    "g_bool = @csgrammar begin\n",
    "    Start = State\n",
    "    State = make_stacks()\n",
    "    State = boolean_and(State)\n",
    "    State = boolean_or(State)\n",
    "    State = boolean_xor(State)\n",
    "    State = boolean_not(State)\n",
    "    State = boolean_invert_first_then_and(State)\n",
    "    State = boolean_invert_second_then_and(State)\n",
    "    State = boolean_fromfloat(State)\n",
    "    State = boolean_fromfloat(State)\n",
    "end\n",
    "\n",
    "g_integer = @csgrammar begin\n",
    "    Start = State\n",
    "    State = make_stacks()\n",
    "    State = integer_add(State)\n",
    "    State = integer_sub(State)\n",
    "    State = integer_mult(State)\n",
    "    State = integer_div(State)\n",
    "    State = integer_mod(State)\n",
    "    State = integer_lt(State)\n",
    "    State = integer_gt(State)\n",
    "    State = integer_lte(State)\n",
    "    State = integer_gte(State)\n",
    "    State = integer_fromboolean(State)\n",
    "    State = integer_fromfloat(State)\n",
    "    State = integer_fromstring(State)\n",
    "    State = integer_fromchar(State)\n",
    "    State = integer_min(State)\n",
    "    State = integer_max(State)\n",
    "    State = integer_inc(State)\n",
    "    State = integer_dec(State)\n",
    "    State = integer_abs(State)\n",
    "    State = integer_negate(State)\n",
    "    State = integer_pow(State)\n",
    "end\n",
    "\n",
    "g_float = @csgrammar begin\n",
    "    State = make_stacks()\n",
    "    State = float_add(State)\n",
    "    State = float_sub(State)\n",
    "    State = float_mult(State)\n",
    "    State = float_div(State)\n",
    "    State = float_mod(State)\n",
    "    State = float_lt(State)\n",
    "    State = float_gt(State)\n",
    "    State = float_lte(State)\n",
    "    State = float_gte(State)\n",
    "    State = float_fromboolean(State)\n",
    "    State = float_fromfloat(State)\n",
    "    State = float_fromstring(State)\n",
    "    State = float_fromchar(State)\n",
    "    State = float_min(State)\n",
    "    State = float_max(State)\n",
    "    State = float_inc(State)\n",
    "    State = float_dec(State)\n",
    "    State = float_abs(State)\n",
    "    State = float_negate(State)\n",
    "    State = float_pow(State)\n",
    "    State = float_arctan(State)\n",
    "    State = float_arccos(State)\n",
    "    State = float_arcsin(State)\n",
    "    State = float_floor(State)\n",
    "    State = float_ceiling(State)\n",
    "    State = float_log10(State)\n",
    "    State = float_log2(State)\n",
    "    State = float_square(State)\n",
    "    State = float_sqrt(State)\n",
    "    State = float_tan(State)\n",
    "    State = float_cos(State)\n",
    "    State = float_sin(State)\n",
    "end\n",
    "\n",
    "g_string = @csgrammar begin\n",
    "    Start = State\n",
    "    State = make_stacks()\n",
    "    State = string_frominteger(State)\n",
    "    State = string_fromfloat(State)\n",
    "    State = string_fromchar(State)\n",
    "    State = string_fromboolean(State)\n",
    "    State = string_concat(State)\n",
    "    State = string_conjchar(State)\n",
    "    State = string_take(State)\n",
    "    State = string_substring(State)\n",
    "    State = string_first(State)\n",
    "    State = string_last(State)\n",
    "    State = string_nth(State)\n",
    "    State = string_rest(State)\n",
    "    State = string_butlast(State)\n",
    "    State = string_length(State)\n",
    "    State = string_reverse(State)\n",
    "    State = string_parse_to_chars(State)\n",
    "    State = string_split(State)\n",
    "    State = string_emptystring(State)\n",
    "    State = string_containschar(State)\n",
    "    State = string_indexofchar(State)\n",
    "    State = string_occurrencesofchar(State)\n",
    "    State = string_replace(State)\n",
    "    State = string_replacefirst(State)\n",
    "    State = string_replacechar(State)\n",
    "    State = string_replacefirstchar(State)\n",
    "    State = string_removechar(State)\n",
    "    State = string_setchar(State)\n",
    "    State = string_capitalize(State)\n",
    "    State = string_uppercase(State)\n",
    "    State = string_lowercase(State)\n",
    "    State = exec_string_iterate(State)\n",
    "    State = string_sort(State)\n",
    "    State = string_includes(State)\n",
    "    State = string_indexof(State)\n",
    "end;\n",
    "\n",
    "\n",
    "# g_in_out = @csgrammar begin\n",
    "#     Start = State\n",
    "#     State = make_stacks\n",
    "#     # State = print_integer(State)\n",
    "#     # State = print_float(State)\n",
    "#     # State = print_code(State)\n",
    "#     # State = print_bool(State)\n",
    "#     # State = print_string(State)\n",
    "#     State = print_char(State)\n",
    "#     # State = print_vector_integer(State)\n",
    "#     # State = print_vector_float(State)\n",
    "#     # State = print_vector_boolean(State)\n",
    "#     # State = print_vector_string(State)\n",
    "# end\n",
    "\n",
    "\n",
    "function merge_grammar(gs::Vector{ContextSensitiveGrammar})\n",
    "    new_grammar = @csgrammar begin end\n",
    "    for g in gs\n",
    "        for i in eachindex(g.rules)\n",
    "            ex = :($(g.types[i]) = $(g.rules[i]))\n",
    "            add_rule!(new_grammar, ex)\n",
    "        end\n",
    "    end\n",
    "    return new_grammar\n",
    "end\n",
    "\n",
    "function make_input_output_grammar(e::IOExample, mod::Module=Main) \n",
    "    grammar_input_output = @csgrammar begin end\n",
    "    for input in e.in\n",
    "        name = Symbol(string(input[1]))\n",
    "        @eval mod ($(name)) = x -> write_input_to_stack($(input[1]), $(input[2]), x)\n",
    "        add_rule!(grammar_input_output, :(State = $name($(input[1]), $(input[2]), State)))\n",
    "    end\n",
    "    for output in e.out\n",
    "        name = Symbol(string(output[1]))\n",
    "        @eval mod ($(name)) = x -> get_output_from_stack($(output[1]), $(typeof(output[2])), x)\n",
    "        add_rule!(grammar_input_output, :(State = $name($(output[1]), $(typeof(output[2])), State)))\n",
    "    end\n",
    "    return grammar_input_output\n",
    "end\n"
   ]
  },
  {
   "cell_type": "markdown",
   "metadata": {},
   "source": [
    "The following are utility functions that should be added to the `grammars/grammar_util.jl` eventually. We were in the middle of working on the output functionality at the end of the October hackathon for HerbBenchmarks, so these likely will need to change before the benchmark is complete."
   ]
  },
  {
   "cell_type": "markdown",
   "metadata": {},
   "source": [
    "`custom_print_char()` is an example of an output function that we can add to the grammar for the `HerbSearch` to use when evaluating programs. For example, if a certain problem had 2 characters as output, we might modify the grammar in the following way:\n",
    "\n",
    "\n",
    "First, define 2 output functions, one for each character. The name `custom_print_char` just comes from the (Clojure implementation of PushGP)[https://github.com/thelmuth/Clojush/tree/psb2-v1.0], nothing is actually printed.\n",
    "\n",
    "```julia\n",
    "output1 = x -> custom_print_char(:output1, x)\n",
    "output2 = x -> custom_print_char(:output2, x)\n",
    "```\n",
    "\n",
    "Then add them to a grammar...\n",
    "\n",
    "```julia\n",
    "g = @cfgrammar begin\n",
    "    ...\n",
    "    State = output1 | output2\n",
    "```\n",
    "\n",
    "Now we are able to construct programs that use the two functions to add characters to the output. For example, the following block shows a program that loads 2 random characters into outputs 1 and 2."
   ]
  },
  {
   "cell_type": "code",
   "execution_count": 13,
   "metadata": {},
   "outputs": [
    {
     "name": "stdout",
     "output_type": "stream",
     "text": [
      "Dict{Symbol, Any}(:output1 => var\"#199#200\"(), :output2 => var\"#201#202\"(), :char_rand => char_rand)\n"
     ]
    },
    {
     "name": "stderr",
     "output_type": "stream",
     "text": [
      "┌ Warning: Unable to add function make_stacks to symbol table\n",
      "└ @ HerbGrammar /Users/issahanou/.julia/packages/HerbGrammar/x0E9w/src/utils.jl:72\n",
      "┌ Warning: Unable to add function make_stacks to symbol table\n",
      "└ @ HerbGrammar /Users/issahanou/.julia/packages/HerbGrammar/x0E9w/src/utils.jl:72\n"
     ]
    },
    {
     "ename": "UndefVarError",
     "evalue": "UndefVarError: `get_output_from_stack` not defined",
     "output_type": "error",
     "traceback": [
      "UndefVarError: `get_output_from_stack` not defined\n",
      "\n",
      "Stacktrace:\n",
      " [1] (::var\"#199#200\")(x::Dict{Symbol, Any})\n",
      "   @ Main ~/Work/code/HerbBenchmarks/src/data/PSB2_2021/grammar_attempt.jl.ipynb:6\n",
      " [2] interpret(tab::Dict{Symbol, Any}, ex::Expr)\n",
      "   @ Main ~/Work/code/HerbBenchmarks/src/data/PSB2_2021/grammar_attempt.jl.ipynb:0\n",
      " [3] interpret(tab::Dict{Symbol, Any}, ex::Expr) (repeats 2 times)\n",
      "   @ Main ~/Work/code/HerbBenchmarks/src/data/PSB2_2021/grammar_attempt.jl.ipynb:24\n",
      " [4] top-level scope\n",
      "   @ ~/Work/code/HerbBenchmarks/src/data/PSB2_2021/grammar_attempt.jl.ipynb:36"
     ]
    }
   ],
   "source": [
    "# Test to make sure the custom print and variables on stack actually work\n",
    "\n",
    "mod = Module(:GrammarImplementation)\n",
    "Base.include(mod, \"grammars/custom_util.jl\")\n",
    "\n",
    "output1 = x -> get_output_from_stack(:output1, :char, x)\n",
    "output2 = x -> get_output_from_stack(:output2, :char, x)\n",
    "\n",
    "g_example = @csgrammar begin\n",
    "    Start = State\n",
    "    State = make_stacks()\n",
    "    State = char_rand(State)\n",
    "    State = output1(:output1, State)\n",
    "    State = output2(:output2, State)\n",
    "end\n",
    "\n",
    "println(SymbolTable(g_example))\n",
    "expr = :(output2(char_rand(output1(char_rand()))))\n",
    "\n",
    "function interpret(tab::SymbolTable, ex::Expr)\n",
    "    if ex.head == :call\n",
    "        if ex.args[1] in keys(tab)\n",
    "            if length(ex.args) > 1\n",
    "                return tab[ex.args[1]](interpret(tab, ex.args[2]))\n",
    "            else\n",
    "                return tab[ex.args[1]](tab)\n",
    "            end\n",
    "        else\n",
    "            throw(ArgumentError(\"Argument $(ex.args[1]) not present in symbol table.\"))\n",
    "        end\n",
    "    else\n",
    "        throw(Error(\"Expression type not supported: $(ex.head)\"))\n",
    "    end\n",
    "end\n",
    "\n",
    "res = interpret(SymbolTable(g_example), expr)"
   ]
  },
  {
   "cell_type": "markdown",
   "metadata": {},
   "source": [
    "# Small example\n",
    "\n",
    "This creates a small example of how to use the grammar. We can merge different different grammars together, each should be annotated by its name (e.g., `Dict{Symbol, Any}(:char => SymbolTable(g_char))`).\n",
    "\n",
    "Then, we create an input dictionary (e.g., `Dict(:input => \"a\")`), turn it into a state using `init_gtm` and finally merge it with the grammar dictionaries. \n",
    "\n",
    "Finally, we create an example of a program and interpret it. "
   ]
  },
  {
   "cell_type": "code",
   "execution_count": 14,
   "metadata": {},
   "outputs": [
    {
     "name": "stdout",
     "output_type": "stream",
     "text": [
      "1: State = input(input, \"a\", State)\n",
      "2: State = output(output, Bool, State)\n",
      "\n",
      "Dict{Symbol, Any}(:gtm_right => gtm_right, :dump_track => dump_track, :char_isdigit => char_isdigit, :char_isletter => char_isletter, :trace => trace, :char_uppercase => char_uppercase, :input => Main.GrammarImplementation.var\"#1#2\"(), :output => Main.GrammarImplementation.var\"#3#4\"(), :gtm_dub1 => gtm_dub1, :char_fromfloat => char_fromfloat, :load_track => load_track, :char_allfromstring => char_allfromstring, :gtm_left => gtm_left, :gtm_dec_delay => gtm_dec_delay, :ensure_instruction_map => ensure_instruction_map, :char_lowercase => char_lowercase, :char_iswhitespace => char_iswhitespace, :make_stacks => Main.GrammarImplementation.make_stacks, :gtm_inc_delay => gtm_inc_delay)\n"
     ]
    },
    {
     "ename": "MethodError",
     "evalue": "MethodError: no method matching search(::ContextSensitiveGrammar, ::Problem, ::Symbol; max_depth::Int64, evaluator::typeof(my_evaluator), allow_evaluation_errors::Bool, mod::Module)\n\nClosest candidates are:\n  search(::HerbCore.Grammar, ::Problem, ::Symbol; evaluator, enumerator, max_depth, max_size, max_time, max_enumerations, allow_evaluation_errors) got unsupported keyword argument \"mod\"\n   @ HerbSearch ~/.julia/packages/HerbSearch/HP8oc/src/search_procedure.jl:89\n",
     "output_type": "error",
     "traceback": [
      "MethodError: no method matching search(::ContextSensitiveGrammar, ::Problem, ::Symbol; max_depth::Int64, evaluator::typeof(my_evaluator), allow_evaluation_errors::Bool, mod::Module)\n",
      "\n",
      "Closest candidates are:\n",
      "  search(::HerbCore.Grammar, ::Problem, ::Symbol; evaluator, enumerator, max_depth, max_size, max_time, max_enumerations, allow_evaluation_errors) got unsupported keyword argument \"mod\"\n",
      "   @ HerbSearch ~/.julia/packages/HerbSearch/HP8oc/src/search_procedure.jl:89\n",
      "\n",
      "\n",
      "Stacktrace:\n",
      " [1] kwerr(::NamedTuple{(:max_depth, :evaluator, :allow_evaluation_errors, :mod), Tuple{Int64, typeof(my_evaluator), Bool, Module}}, ::Function, ::ContextSensitiveGrammar, ::Problem, ::Symbol)\n",
      "   @ Base ./error.jl:165\n",
      " [2] top-level scope\n",
      "   @ ~/Work/code/HerbBenchmarks/src/data/PSB2_2021/grammar_attempt.jl.ipynb:19"
     ]
    }
   ],
   "source": [
    "e = IOExample(Dict(:input => \"a\"), Dict(:output => true))\n",
    "mod = Module(:GrammarImplementation)\n",
    "Base.include(mod, \"grammars/custom_util.jl\")\n",
    "g = make_input_output_grammar(e, mod)\n",
    "println(g)\n",
    "grammar_example = merge_grammar([g_char, g_gtm, g])\n",
    "tab = SymbolTable(grammar_example, mod)\n",
    "println(tab)\n",
    "\n",
    "function my_evaluator(tab::SymbolTable, expr::Any, input::Dict)\n",
    "    println(\"Evaluating: \", expr)\n",
    "    # println(\"Input: \", input)\n",
    "    # println(\"Tab: \", tab)\n",
    "    res = interpret(merge(tab, input), expr, mod)\n",
    "    println(res)\n",
    "    return res\n",
    "end\n",
    "\n",
    "sol = HerbSearch.search(grammar_example, Problem([e]), :Start, max_depth=1000,\n",
    "    evaluator=my_evaluator,\n",
    "    allow_evaluation_errors = false,\n",
    "    mod=mod\n",
    ")\n",
    "\n"
   ]
  },
  {
   "cell_type": "code",
   "execution_count": 50,
   "metadata": {},
   "outputs": [
    {
     "name": "stdout",
     "output_type": "stream",
     "text": [
      "Dict{Symbol, Any}(:gtm_right => gtm_right, :init_gtm => init_gtm, :char_isdigit => char_isdigit, :char_isletter => char_isletter, :dump_track => dump_track, :trace => trace, :char_uppercase => char_uppercase, :gtm_dub1 => gtm_dub1, :char_fromfloat => char_fromfloat, :load_track => load_track, :char_allfromstring => char_allfromstring, :gtm_left => gtm_left, :gtm_dec_delay => gtm_dec_delay, :ensure_instruction_map => ensure_instruction_map, :char_lowercase => char_lowercase, :char_iswhitespace => char_iswhitespace, :make_stacks => make_stacks, :gtm_inc_delay => gtm_inc_delay)\n",
      "1: Start = State\n",
      "2: State = make_stacks()\n",
      "3: State = output1(:output1, State)\n",
      "4: State = output2(:output2, State)\n",
      "5: State = input(:input, State)\n",
      "\n",
      "Dict{Symbol, Any}(:gtm_right => gtm_right, :gtm => "
     ]
    },
    {
     "name": "stdout",
     "output_type": "stream",
     "text": [
      "Dict{Symbol, Any}(:delay => 0, :position => 1, :trace => Any[], :tracks => "
     ]
    },
    {
     "name": "stdout",
     "output_type": "stream",
     "text": [
      "Dict{Any, Any}[Dict(), Dict(), Dict()]), :init_gtm => init_gtm, :output2 => var\"#275#276\"(), :char_isdigit => char_isdigit, :char_isletter => char_isletter, :dump_track => dump_track, :trace => trace, :char_uppercase => char_uppercase, :input => \"a\", :boolean => Any[], :output1 => var\"#273#274\"(), :gtm_dub1 => gtm_dub1, :char_fromfloat => char_fromfloat, :load_track => load_track, :char_allfromstring => char_allfromstring, :string => Any[], :char => Any[], :gtm_left => gtm_left, :float => Any[], :gtm_dec_delay => gtm_dec_delay, :ensure_instruction_map => ensure_instruction_map, :char_lowercase => char_lowercase, :char_iswhitespace => char_iswhitespace, :integer => Any[], :make_stacks => make_stacks, :gtm_inc_delay => gtm_inc_delay)\n"
     ]
    },
    {
     "data": {
      "text/plain": [
       "Dict{Symbol, Any} with 27 entries:\n",
       "  :gtm_right          => gtm_right\n",
       "  :gtm                => Dict{Symbol, Any}(:delay=>0, :position=>1, :trace=>Any…\n",
       "  :init_gtm           => init_gtm\n",
       "  :output2            => #275\n",
       "  :char_isdigit       => char_isdigit\n",
       "  :char_isletter      => char_isletter\n",
       "  :dump_track         => dump_track\n",
       "  :trace              => trace\n",
       "  :char_uppercase     => char_uppercase\n",
       "  :input              => \"a\"\n",
       "  :boolean            => Any[]\n",
       "  :output1            => #273\n",
       "  :gtm_dub1           => gtm_dub1\n",
       "  :char_fromfloat     => char_fromfloat\n",
       "  :load_track         => load_track\n",
       "  :char_allfromstring => char_allfromstring\n",
       "  :string             => Any[]\n",
       "  :char               => Any[]\n",
       "  :gtm_left           => gtm_left\n",
       "  ⋮                   => ⋮"
      ]
     },
     "metadata": {},
     "output_type": "display_data"
    }
   ],
   "source": [
    "# tab_char = Dict{Symbol, Any}(:char => SymbolTable(g_char))\n",
    "grammar_example = merge_grammar([g_char, g_gtm])\n",
    "tab = SymbolTable(grammar_example)\n",
    "println(tab)\n",
    "\n",
    "output1 = x -> get_output_from_stack(:output1, :char, x)\n",
    "output2 = x -> get_output_from_stack(:output2, :char, x)\n",
    "\n",
    "input = x -> write_input_to_stack(:input, 'a', x)\n",
    "\n",
    "g_output = @csgrammar begin\n",
    "    Start = State\n",
    "    State = make_stacks()\n",
    "    State = output1(:output1, State)\n",
    "    State = output2(:output2, State)\n",
    "    State = input(:input, State)\n",
    "end\n",
    "println(g_output)\n",
    "tab = merge(tab, SymbolTable(g_output))\n",
    "\n",
    "input = Dict(:input => \"a\")\n",
    "input = init_gtm(input)\n",
    "input = merge(tab, input)\n",
    "stacks = make_stacks()\n",
    "input = merge(input, stacks)\n",
    "\n",
    "# println(input[:])\n",
    "ex = :(output1(char_isletter())) # should be true\n",
    "\n",
    "res = interpret(input, ex)"
   ]
  },
  {
   "cell_type": "markdown",
   "metadata": {},
   "source": [
    "# Benchmark example\n",
    "\n",
    "Here, we see if our grammar works for the benchmark given. First, we start with the easiest problem in the benchmark: coin-sums which uses the `exec`, `integer`, and `bool` instructions (see Table 2, in [this paper](https://dl.acm.org/doi/pdf/10.1145/3449639.3459285)). \n",
    "\n",
    "### Coin Sums problem\n",
    "Given a number of cents, find the fewest number of US coins (pennies, nickles, dimes, quarters) needed to make that amount, and return the number of each type of coin as a separate output. (Project Euler, 2002)\n",
    "\n",
    "So, to check the grammars are constructed correctly, we should be able to search for the program that satisfies all of the IOExamples.\n",
    "\n",
    "\n",
    "\n",
    "    Project Euler. 2002. Project Euler: Coin Sums. https://projecteuler.net/problem=31 Accessed: 2020-01-20."
   ]
  },
  {
   "cell_type": "code",
   "execution_count": null,
   "metadata": {},
   "outputs": [],
   "source": [
    "include(\"retrieve_all_tasks.jl\")\n",
    "write_psb2_problems_to_file([\"coin-sums\"], \"edge\")\n",
    "include(\"datasets/coin-sums/coin_sumsdata.jl\")\n",
    "\n",
    "println(\"Dataset with one problem with examples: \", length(problem_coin_sums.examples))"
   ]
  },
  {
   "cell_type": "code",
   "execution_count": null,
   "metadata": {},
   "outputs": [],
   "source": [
    "grammar_coin_sums = merge_grammar([g_integer, g_gtm, g_bool])\n",
    "\n",
    "program, cost = search(grammar_coin_sums, problem_coin_sums, :Start, max_depth=1000, evaluator=my_evaluator, allow_evaluation_errors = false)\n",
    "\n",
    "# function my_evaluator(tab::SymbolTable, expr::Any, input::Dict)\n",
    "#     println(\"Evaluating: \", expr)\n",
    "#     # println(\"Input: \", input)\n",
    "#     # println(\"Tab: \", tab)\n",
    "#     res = interpret(merge(tab, input), expr)\n",
    "#     println(res)\n",
    "#     return res\n",
    "# end\n",
    "\n",
    "\n",
    "# g = merge_grammar([g_char, g_gtm, g_string, g_integer, g_in_out])\n",
    "# sol = HerbSearch.search(g, problem_coin_sums, :Start, max_depth=1000,\n",
    "#     evaluator=my_evaluator,\n",
    "#     allow_evaluation_errors = false,\n",
    "# )\n",
    "# input_output = problem_coin_sums.examples[1].in"
   ]
  },
  {
   "cell_type": "markdown",
   "metadata": {},
   "source": [
    "# Old"
   ]
  },
  {
   "cell_type": "code",
   "execution_count": null,
   "metadata": {},
   "outputs": [],
   "source": [
    "\n",
    "tab = merge(SymbolTable(g_gtm), merge(SymbolTable(g_integer), merge(SymbolTable(g_string), SymbolTable(g_char))))\n",
    "stacks = make_stacks()\n",
    "tab = merge(tab, stacks)\n",
    "tab\n",
    "ex = problem_coin_sums.examples[1]\n",
    "println(\"ex: \", ex)\n",
    "\n",
    "res = interpret(tab, ex)\n",
    "println(\"Res: \", res)\n"
   ]
  },
  {
   "cell_type": "code",
   "execution_count": null,
   "metadata": {},
   "outputs": [],
   "source": [
    "function my_evaluator(tab::SymbolTable, expr::Any, input::Dict)\n",
    "    println(\"Evaluating: \", expr)\n",
    "    # println(\"Input: \", input)\n",
    "    # println(\"Tab: \", tab)\n",
    "    res = interpret(merge(tab, input), expr)\n",
    "    println(res)\n",
    "    return res\n",
    "end\n",
    "\n",
    "\n",
    "g = merge_grammar([g_char, g_gtm, g_string, g_integer, g_in_out])\n",
    "sol = HerbSearch.search(g, problem_coin_sums, :Start, max_depth=1000,\n",
    "    evaluator=my_evaluator,\n",
    "    allow_evaluation_errors = false,\n",
    ")"
   ]
  }
 ],
 "metadata": {
  "kernelspec": {
   "display_name": "Julia 1.9.4",
   "language": "julia",
   "name": "julia-1.9"
  },
  "language_info": {
   "file_extension": ".jl",
   "mimetype": "application/julia",
   "name": "julia",
   "version": "1.9.4"
  }
 },
 "nbformat": 4,
 "nbformat_minor": 2
}
