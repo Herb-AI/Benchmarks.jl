{
 "cells": [
  {
   "cell_type": "code",
   "execution_count": null,
   "metadata": {},
   "outputs": [],
   "source": [
    "using ZipFile, SExpressions"
   ]
  },
  {
   "cell_type": "code",
   "execution_count": null,
   "metadata": {},
   "outputs": [],
   "source": [
    "out = download(\"https://github.com/thelmuth/Clojush/archive/refs/tags/psb2-v1.0.zip\")\n",
    "\n",
    "r = ZipFile.Reader(out);"
   ]
  },
  {
   "cell_type": "code",
   "execution_count": null,
   "metadata": {},
   "outputs": [],
   "source": [
    "r = ZipFile.Reader(out)\n",
    "instructions = filter(x -> contains(x.name, \"instruction\") && contains(x.name, \".clj\"), r.files)\n",
    "instruction_set = Dict()\n",
    "\n",
    "for i in instructions\n",
    "    name = split(i.name, \"/\")[end]\n",
    "    contents = String(read(i))\n",
    "    contents = replace(\n",
    "        contents,\n",
    "        r\"\\#\\{(?<setitems>.+)\\}\" => s\"(hash-set \\g<setitems>)\", # Replace #{...} with (hash-set ...)\n",
    "        r\"#\\_\" => \"\", # Replace #_ (comment) with nothing\n",
    "        r\"#\\(\" => \"(ANONYMOUS \", # Replace #\"...\" (regex in Clojure) with r\"...\" (regex in Julia)\n",
    "        r\"#\" => \"r\",\n",
    "        \"\\\\\" => \"\\\\\\\\\",\n",
    "        \";(update-in [:gtm :position] inc)\" => \"\",\n",
    "    )\n",
    "\n",
    "    try\n",
    "        s = SExpressions.parseall(contents)\n",
    "        instruction_set[name] = s.cdr\n",
    "    catch err\n",
    "        println(\">>> ERROR parsing $name: $err\")\n",
    "    end\n",
    "end"
   ]
  },
  {
   "cell_type": "code",
   "execution_count": null,
   "metadata": {},
   "outputs": [],
   "source": [
    "function make_instruction_table(instruction_set)\n",
    "    \"\"\"\n",
    "    Recursively get the .cdr of each instruction in the instruction set.\n",
    "    \"\"\"\n",
    "    instructions = Dict()\n",
    "    if isa(instruction_set, Nil)\n",
    "        return instructions\n",
    "    end\n",
    "    if instruction_set.car.car == Symbol(\"define-registered\")\n",
    "        instructions[instruction_set.car.cdr.car] = instruction_set.car.cdr.cdr\n",
    "        instructions = merge(instructions, make_instruction_table(instruction_set.cdr))\n",
    "    else\n",
    "        instructions = merge(instructions, make_instruction_table(instruction_set.cdr))\n",
    "    end\n",
    "\n",
    "    return instructions\n",
    "end"
   ]
  },
  {
   "cell_type": "code",
   "execution_count": null,
   "metadata": {},
   "outputs": [],
   "source": [
    "flattened_instruction_sets = Dict(k => make_instruction_table(v) for (k, v) in instruction_set)"
   ]
  },
  {
   "cell_type": "code",
   "execution_count": null,
   "metadata": {},
   "outputs": [],
   "source": [
    "for (k, v) in flattened_instruction_sets\n",
    "    for (k2, v2) in v\n",
    "        println(\"$k.$k2\")\n",
    "    end\n",
    "end"
   ]
  }
 ],
 "metadata": {
  "kernelspec": {
   "display_name": "Julia 1.9.3",
   "language": "julia",
   "name": "julia-1.9"
  },
  "language_info": {
   "file_extension": ".jl",
   "mimetype": "application/julia",
   "name": "julia",
   "version": "1.9.3"
  }
 },
 "nbformat": 4,
 "nbformat_minor": 2
}
