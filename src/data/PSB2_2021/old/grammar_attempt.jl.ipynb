{
 "cells": [
  {
   "cell_type": "code",
   "execution_count": 1,
   "metadata": {},
   "outputs": [
    {
     "name": "stderr",
     "output_type": "stream",
     "text": [
      "\u001b[32m\u001b[1m    Updating\u001b[22m\u001b[39m git-repo `https://github.com/Herb-AI/HerbSearch.jl.git`\n"
     ]
    },
    {
     "name": "stderr",
     "output_type": "stream",
     "text": [
      "\u001b[32m\u001b[1m   Resolving\u001b[22m\u001b[39m package versions...\n"
     ]
    },
    {
     "name": "stderr",
     "output_type": "stream",
     "text": [
      "\u001b[32m\u001b[1m  No Changes\u001b[22m\u001b[39m to `~/Work/code/HerbBenchmarks/Project.toml`\n",
      "\u001b[32m\u001b[1m  No Changes\u001b[22m\u001b[39m to `~/Work/code/HerbBenchmarks/Manifest.toml`\n"
     ]
    }
   ],
   "source": [
    "using HerbGrammar, HerbData, HerbInterpret, Pkg #, HerbBenchmarks\n",
    "Pkg.add(PackageSpec(name=\"HerbSearch\", rev=\"dev\"))\n",
    "using HerbSearch\n",
    "import HerbInterpret.interpret"
   ]
  },
  {
   "cell_type": "markdown",
   "metadata": {},
   "source": [
    "The original benchmark uses a wide set of instructions, which are divided into subgroups. The instructions were originally written in Clojure and can be found [here](https://github.com/thelmuth/Clojush/tree/psb2-v1.0/src/clojush/instructions). \n",
    "\n",
    "We translated these to Julia functions using ChatGPT with the prompt: \"Can you give me julia functions for the following clojure definitions:\". Each of the instruction sets can be found in the `grammars` directory. We create a `cfgrammar` for each set, so they can be imported individually. "
   ]
  },
  {
   "cell_type": "code",
   "execution_count": 2,
   "metadata": {},
   "outputs": [
    {
     "data": {
      "text/plain": [
       "char_rand (generic function with 1 method)"
      ]
     },
     "metadata": {},
     "output_type": "display_data"
    }
   ],
   "source": [
    "include(\"grammars/grammar_char.jl\")\n",
    "include(\"grammars/grammar_gtm.jl\")\n",
    "include(\"grammars/grammar_bool.jl\")\n",
    "include(\"grammars/grammar_numbers.jl\")\n",
    "include(\"grammars/grammar_string.jl\")\n",
    "include(\"grammars/grammar_random.jl\")"
   ]
  },
  {
   "cell_type": "code",
   "execution_count": 3,
   "metadata": {},
   "outputs": [
    {
     "data": {
      "text/plain": [
       "1: State = make_stacks()\n",
       "2: State = string_frominteger(State)\n",
       "3: State = string_fromfloat(State)\n",
       "4: State = string_fromchar(State)\n",
       "5: State = string_fromboolean(State)\n",
       "6: State = string_concat(State)\n",
       "7: State = string_conjchar(State)\n",
       "8: State = string_take(State)\n",
       "9: State = string_substring(State)\n",
       "10: State = string_first(State)\n",
       "11: State = string_last(State)\n",
       "12: State = string_nth(State)\n",
       "13: State = string_rest(State)\n",
       "14: State = string_butlast(State)\n",
       "15: State = string_length(State)\n",
       "16: State = string_reverse(State)\n",
       "17: State = string_parse_to_chars(State)\n",
       "18: State = string_split(State)\n",
       "19: State = string_emptystring(State)\n",
       "20: State = string_containschar(State)\n",
       "21: State = string_indexofchar(State)\n",
       "22: State = string_occurrencesofchar(State)\n",
       "23: State = string_replace(State)\n",
       "24: State = string_replacefirst(State)\n",
       "25: State = string_replacechar(State)\n",
       "26: State = string_replacefirstchar(State)\n",
       "27: State = string_removechar(State)\n",
       "28: State = string_setchar(State)\n",
       "29: State = string_capitalize(State)\n",
       "30: State = string_uppercase(State)\n",
       "31: State = string_lowercase(State)\n",
       "32: State = exec_string_iterate(State)\n",
       "33: State = string_sort(State)\n",
       "34: State = string_includes(State)\n",
       "35: State = string_indexof(State)\n"
      ]
     },
     "metadata": {},
     "output_type": "display_data"
    }
   ],
   "source": [
    "g_random = @csgrammar begin\n",
    "    State = make_stacks()\n",
    "    State = boolean_rand(State)\n",
    "    State = float_rand(State)\n",
    "    State = integer_rand(State)\n",
    "    State = string_rand(State)\n",
    "    State = code_rand(State)\n",
    "    State = code_rand_atom(State)\n",
    "    State = char_rand(State)\n",
    "end\n",
    "\n",
    "g_char = @csgrammar begin\n",
    "    State = make_stacks()\n",
    "    State = char_allfromstring(State)\n",
    "    State = char_fromfloat(State)\n",
    "    State = char_fromfloat(State)\n",
    "    State = char_isletter(State)\n",
    "    State = char_isdigit(State)\n",
    "    State = char_iswhitespace(State)\n",
    "    State = char_lowercase(State)\n",
    "    State = char_uppercase(State)\n",
    "end\n",
    "\n",
    "g_gtm = @csgrammar begin\n",
    "    State = make_stacks()\n",
    "    State = ensure_instruction_map(State)\n",
    "    State = load_track(State)\n",
    "    State = dump_track(State)\n",
    "    State = trace(State)\n",
    "    # State = gtm_left(State)\n",
    "    # State = gtm_right(State)\n",
    "    # State = gtm_inc_delay(State)\n",
    "    # State = gtm_dec_delay(State)\n",
    "    # State = gtm_dub1(State)\n",
    "end\n",
    "\n",
    "g_bool = @csgrammar begin\n",
    "    State = make_stacks()\n",
    "    State = boolean_and(State)\n",
    "    State = boolean_or(State)\n",
    "    State = boolean_xor(State)\n",
    "    State = boolean_not(State)\n",
    "    State = boolean_invert_first_then_and(State)\n",
    "    State = boolean_invert_second_then_and(State)\n",
    "    State = boolean_fromfloat(State)\n",
    "    State = boolean_fromfloat(State)\n",
    "end\n",
    "\n",
    "g_integer = @csgrammar begin\n",
    "    State = make_stacks()\n",
    "    State = integer_add(State)\n",
    "    State = integer_sub(State)\n",
    "    State = integer_mult(State)\n",
    "    State = integer_div(State)\n",
    "    State = integer_mod(State)\n",
    "    State = integer_lt(State)\n",
    "    State = integer_gt(State)\n",
    "    State = integer_lte(State)\n",
    "    State = integer_gte(State)\n",
    "    State = integer_fromboolean(State)\n",
    "    State = integer_fromfloat(State)\n",
    "    State = integer_fromstring(State)\n",
    "    State = integer_fromchar(State)\n",
    "    State = integer_min(State)\n",
    "    State = integer_max(State)\n",
    "    State = integer_inc(State)\n",
    "    State = integer_dec(State)\n",
    "    State = integer_abs(State)\n",
    "    State = integer_negate(State)\n",
    "    State = integer_pow(State)\n",
    "end\n",
    "\n",
    "g_float = @csgrammar begin\n",
    "    State = make_stacks()\n",
    "    State = float_add(State)\n",
    "    State = float_sub(State)\n",
    "    State = float_mult(State)\n",
    "    State = float_div(State)\n",
    "    State = float_mod(State)\n",
    "    State = float_lt(State)\n",
    "    State = float_gt(State)\n",
    "    State = float_lte(State)\n",
    "    State = float_gte(State)\n",
    "    State = float_fromboolean(State)\n",
    "    State = float_fromfloat(State)\n",
    "    State = float_fromstring(State)\n",
    "    State = float_fromchar(State)\n",
    "    State = float_min(State)\n",
    "    State = float_max(State)\n",
    "    State = float_inc(State)\n",
    "    State = float_dec(State)\n",
    "    State = float_abs(State)\n",
    "    State = float_negate(State)\n",
    "    State = float_pow(State)\n",
    "    State = float_arctan(State)\n",
    "    State = float_arccos(State)\n",
    "    State = float_arcsin(State)\n",
    "    State = float_floor(State)\n",
    "    State = float_ceiling(State)\n",
    "    State = float_log10(State)\n",
    "    State = float_log2(State)\n",
    "    State = float_square(State)\n",
    "    State = float_sqrt(State)\n",
    "    State = float_tan(State)\n",
    "    State = float_cos(State)\n",
    "    State = float_sin(State)\n",
    "end\n",
    "\n",
    "g_string = @csgrammar begin\n",
    "    State = make_stacks()\n",
    "    State = string_frominteger(State)\n",
    "    State = string_fromfloat(State)\n",
    "    State = string_fromchar(State)\n",
    "    State = string_fromboolean(State)\n",
    "    State = string_concat(State)\n",
    "    State = string_conjchar(State)\n",
    "    State = string_take(State)\n",
    "    State = string_substring(State)\n",
    "    State = string_first(State)\n",
    "    State = string_last(State)\n",
    "    State = string_nth(State)\n",
    "    State = string_rest(State)\n",
    "    State = string_butlast(State)\n",
    "    State = string_length(State)\n",
    "    State = string_reverse(State)\n",
    "    State = string_parse_to_chars(State)\n",
    "    State = string_split(State)\n",
    "    State = string_emptystring(State)\n",
    "    State = string_containschar(State)\n",
    "    State = string_indexofchar(State)\n",
    "    State = string_occurrencesofchar(State)\n",
    "    State = string_replace(State)\n",
    "    State = string_replacefirst(State)\n",
    "    State = string_replacechar(State)\n",
    "    State = string_replacefirstchar(State)\n",
    "    State = string_removechar(State)\n",
    "    State = string_setchar(State)\n",
    "    State = string_capitalize(State)\n",
    "    State = string_uppercase(State)\n",
    "    State = string_lowercase(State)\n",
    "    State = exec_string_iterate(State)\n",
    "    State = string_sort(State)\n",
    "    State = string_includes(State)\n",
    "    State = string_indexof(State)\n",
    "end"
   ]
  },
  {
   "cell_type": "code",
   "execution_count": 4,
   "metadata": {},
   "outputs": [
    {
     "data": {
      "text/plain": [
       "make_input_output_grammar (generic function with 2 methods)"
      ]
     },
     "metadata": {},
     "output_type": "display_data"
    }
   ],
   "source": [
    "function merge_grammar(gs::Vector{ContextSensitiveGrammar})\n",
    "    new_grammar = @csgrammar begin end\n",
    "    for g in gs\n",
    "        for i in eachindex(g.rules)\n",
    "            ex = :($(g.types[i]) = $(g.rules[i]))\n",
    "            add_rule!(new_grammar, ex)\n",
    "        end\n",
    "    end\n",
    "    return new_grammar\n",
    "end\n",
    "\n",
    "function make_input_output_grammar(examples::Vector{IOExample}, mod::Module=Main) \n",
    "    grammar_input_output = @csgrammar begin end\n",
    "    for e in examples\n",
    "        for input in e.in\n",
    "            name = Symbol(string(input[1]))\n",
    "            @eval mod ($(name)) = x -> write_input_to_stack($(input[1]), $(input[2]), x)\n",
    "            add_rule!(grammar_input_output, :(State = $name($(input[1]), $(input[2]), State)))\n",
    "        end\n",
    "        for output in e.out\n",
    "            name = Symbol(string(output[1]))\n",
    "            @eval mod ($(name)) = x -> get_output_from_stack($(output[1]), $(typeof(output[2])), x)\n",
    "            add_rule!(grammar_input_output, :(State = $name($(output[1]), $(typeof(output[2])), State)))\n",
    "        end\n",
    "    end\n",
    "    return grammar_input_output\n",
    "end"
   ]
  },
  {
   "cell_type": "markdown",
   "metadata": {},
   "source": [
    "# Small example\n",
    "\n",
    "This creates a small example of how to use the grammar. We can merge different different grammars together, each should be annotated by its name (e.g., `Dict{Symbol, Any}(:char => SymbolTable(g_char))`).\n",
    "\n",
    "Then, we create an input dictionary (e.g., `Dict(:input => \"a\")`), turn it into a state using `init_gtm` and finally merge it with the grammar dictionaries. \n",
    "\n",
    "Finally, we create an example of a program and interpret it. "
   ]
  },
  {
   "cell_type": "code",
   "execution_count": 6,
   "metadata": {},
   "outputs": [
    {
     "data": {
      "text/plain": [
       "my_evaluator (generic function with 1 method)"
      ]
     },
     "metadata": {},
     "output_type": "display_data"
    }
   ],
   "source": [
    "function interpret(tab::SymbolTable, ex::Expr, mod::Module)\n",
    "\tprintln(tab)\n",
    "    if ex.head == :call\n",
    "\t\tprintln(ex.args[1])\n",
    "\t\tprintln(keys(tab))\n",
    "        if ex.args[1] in keys(tab)\n",
    "            if length(ex.args) > 1\n",
    "                return @eval mod tab[ex.args[1]](interpret(tab, ex.args[2]))\n",
    "            else\n",
    "                return @eval mod tab[ex.args[1]](tab)\n",
    "            end\n",
    "        else\n",
    "            throw(ArgumentError(\"Argument $(ex.args[1]) not present in symbol table.\"))\n",
    "        end\n",
    "    else\n",
    "        throw(Error(\"Expression type not supported: $(ex.head)\"))\n",
    "    end\n",
    "end\n",
    "\n",
    "\n",
    "function my_evaluator(tab::SymbolTable, expr::Any, input::Dict, mod::Module)\n",
    "\tprintln(\"Evaluating: \", expr)\n",
    "\tres = interpret(merge(tab, input), expr, mod)\n",
    "\tprintln(res)\n",
    "\treturn res\n",
    "end\n"
   ]
  },
  {
   "cell_type": "code",
   "execution_count": 9,
   "metadata": {},
   "outputs": [
    {
     "ename": "HerbSearch.EvaluationError",
     "evalue": "An exception was thrown while evaluating the expression make_stacks() on input Dict{Symbol, Any}(:input => \"a\"): MethodError(my_evaluator, (Dict{Symbol, Any}(:output => Main.GrammarImplementation.var\"#3#4\"(), :char_allfromstring => Main.GrammarImplementation.char_allfromstring, :char_fromfloat => Main.GrammarImplementation.char_fromfloat, :char_lowercase => Main.GrammarImplementation.char_lowercase, :char_isdigit => Main.GrammarImplementation.char_isdigit, :char_isletter => Main.GrammarImplementation.char_isletter, :char_iswhitespace => Main.GrammarImplementation.char_iswhitespace, :make_stacks => Main.GrammarImplementation.make_stacks, :char_uppercase => Main.GrammarImplementation.char_uppercase, :input => Main.GrammarImplementation.var\"#1#2\"()), :(make_stacks()), Dict{Symbol, Any}(:input => \"a\")), 0x000000000000845e)",
     "output_type": "error",
     "traceback": [
      "An exception was thrown while evaluating the expression make_stacks() on input Dict{Symbol, Any}(:input => \"a\"): MethodError(my_evaluator, (Dict{Symbol, Any}(:output => Main.GrammarImplementation.var\"#3#4\"(), :char_allfromstring => Main.GrammarImplementation.char_allfromstring, :char_fromfloat => Main.GrammarImplementation.char_fromfloat, :char_lowercase => Main.GrammarImplementation.char_lowercase, :char_isdigit => Main.GrammarImplementation.char_isdigit, :char_isletter => Main.GrammarImplementation.char_isletter, :char_iswhitespace => Main.GrammarImplementation.char_iswhitespace, :make_stacks => Main.GrammarImplementation.make_stacks, :char_uppercase => Main.GrammarImplementation.char_uppercase, :input => Main.GrammarImplementation.var\"#1#2\"()), :(make_stacks()), Dict{Symbol, Any}(:input => \"a\")), 0x000000000000845e)\n",
      "\n",
      "Stacktrace:\n",
      " [1] search_rulenode(g::ContextSensitiveGrammar, problem::Problem, start::Symbol; evaluator::typeof(my_evaluator), enumerator::typeof(get_bfs_enumerator), max_depth::Int64, max_size::Nothing, max_time::Nothing, max_enumerations::Nothing, allow_evaluation_errors::Bool, mod::Module)\n",
      "   @ HerbSearch ~/.julia/packages/HerbSearch/SPOKC/src/search_procedure.jl:77\n",
      " [2] search_rulenode\n",
      "   @ ~/.julia/packages/HerbSearch/SPOKC/src/search_procedure.jl:31 [inlined]\n",
      " [3] #search#40\n",
      "   @ ~/.julia/packages/HerbSearch/SPOKC/src/search_procedure.jl:129 [inlined]\n",
      " [4] top-level scope\n",
      "   @ ~/Work/code/HerbBenchmarks/src/data/PSB2_2021/grammar_attempt.jl.ipynb:13"
     ]
    }
   ],
   "source": [
    "e = IOExample(Dict(:input => \"a\"), Dict(:output => true))\n",
    "\n",
    "mod = Module(:GrammarImplementation)\n",
    "Base.include(mod, \"grammars/custom_util.jl\")\n",
    "Base.include(mod, \"grammars/grammar_char.jl\")\n",
    "\n",
    "g_in_out = make_input_output_grammar([e], mod)\n",
    "\n",
    "grammar_example = merge_grammar([g_char, g])\n",
    "tab = SymbolTable(grammar_example, mod)\n",
    "\n",
    "# TODO no program is found\n",
    "sol = HerbSearch.search(grammar_example, Problem([e]), :State,\n",
    "    max_depth=5,\n",
    "    evaluator=my_evaluator,\n",
    "    allow_evaluation_errors = false,\n",
    "    mod=mod\n",
    ")\n",
    "# print(sol)"
   ]
  },
  {
   "cell_type": "markdown",
   "metadata": {},
   "source": [
    "# Benchmark example\n",
    "\n",
    "Here, we see if our grammar works for the benchmark given. First, we start with the easiest problem in the benchmark: coin-sums which uses the `exec`, `integer`, and `bool` instructions (see Table 2, in [this paper](https://dl.acm.org/doi/pdf/10.1145/3449639.3459285)). \n",
    "\n",
    "### Coin Sums problem\n",
    "Given a number of cents, find the fewest number of US coins (pennies, nickles, dimes, quarters) needed to make that amount, and return the number of each type of coin as a separate output. (Project Euler, 2002)\n",
    "\n",
    "So, to check the grammars are constructed correctly, we should be able to search for the program that satisfies all of the IOExamples.\n",
    "\n",
    "\n",
    "\n",
    "    Project Euler. 2002. Project Euler: Coin Sums. https://projecteuler.net/problem=31 Accessed: 2020-01-20."
   ]
  },
  {
   "cell_type": "code",
   "execution_count": null,
   "metadata": {},
   "outputs": [],
   "source": [
    "include(\"retrieve_all_tasks.jl\")\n",
    "write_psb2_problems_to_file([\"coin-sums\"], \"edge\")\n",
    "include(\"datasets/coin-sums/coin_sumsdata.jl\")\n",
    "\n",
    "println(\"Dataset with one problem with examples: \", length(problem_coin_sums.examples))"
   ]
  },
  {
   "cell_type": "code",
   "execution_count": null,
   "metadata": {},
   "outputs": [],
   "source": [
    "mod = Module(:GrammarImplementation)\n",
    "Base.include(mod, \"grammars/custom_util.jl\")\n",
    "Base.include(mod, \"grammars/grammar_char.jl\")\n",
    "Base.include(mod, \"grammars/grammar_gtm.jl\")\n",
    "Base.include(mod, \"grammars/util.jl\")\n",
    "\n",
    "g_in_out = make_input_output_grammar(problem_coin_sums.examples, mod)\n",
    "grammar_coin_sums = merge_grammar([g_integer, g_gtm, g_bool, g_in_out])\n",
    "\n",
    "\n",
    "program, cost = search(grammar_coin_sums, problem_coin_sums, :Start, max_depth=5, evaluator=my_evaluator, allow_evaluation_errors = false)"
   ]
  },
  {
   "cell_type": "markdown",
   "metadata": {},
   "source": [
    "# Old"
   ]
  },
  {
   "cell_type": "markdown",
   "metadata": {},
   "source": [
    "The following are utility functions that should be added to the `grammars/grammar_util.jl` eventually. We were in the middle of working on the output functionality at the end of the October hackathon for HerbBenchmarks, so these likely will need to change before the benchmark is complete."
   ]
  },
  {
   "cell_type": "markdown",
   "metadata": {},
   "source": [
    "`custom_print_char()` is an example of an output function that we can add to the grammar for the `HerbSearch` to use when evaluating programs. For example, if a certain problem had 2 characters as output, we might modify the grammar in the following way:\n",
    "\n",
    "\n",
    "First, define 2 output functions, one for each character. The name `custom_print_char` just comes from the (Clojure implementation of PushGP)[https://github.com/thelmuth/Clojush/tree/psb2-v1.0], nothing is actually printed.\n",
    "\n",
    "```julia\n",
    "output1 = x -> custom_print_char(:output1, x)\n",
    "output2 = x -> custom_print_char(:output2, x)\n",
    "```\n",
    "\n",
    "Then add them to a grammar...\n",
    "\n",
    "```julia\n",
    "g = @cfgrammar begin\n",
    "    ...\n",
    "    State = output1 | output2\n",
    "```\n",
    "\n",
    "Now we are able to construct programs that use the two functions to add characters to the output. For example, the following block shows a program that loads 2 random characters into outputs 1 and 2."
   ]
  },
  {
   "cell_type": "code",
   "execution_count": null,
   "metadata": {},
   "outputs": [],
   "source": [
    "# Test to make sure the custom print and variables on stack actually work\n",
    "\n",
    "mod = Module(:GrammarImplementation)\n",
    "Base.include(mod, \"grammars/custom_util.jl\")\n",
    "\n",
    "output1 = x -> get_output_from_stack(:output1, :char, x)\n",
    "output2 = x -> get_output_from_stack(:output2, :char, x)\n",
    "\n",
    "g_example = @csgrammar begin\n",
    "    Start = State\n",
    "    State = make_stacks()\n",
    "    State = char_rand(State)\n",
    "    State = output1(:output1, State)\n",
    "    State = output2(:output2, State)\n",
    "end\n",
    "\n",
    "println(SymbolTable(g_example))\n",
    "expr = :(output2(char_rand(output1(char_rand()))))\n",
    "\n",
    "function interpret(tab::SymbolTable, ex::Expr)\n",
    "    if ex.head == :call\n",
    "        if ex.args[1] in keys(tab)\n",
    "            if length(ex.args) > 1\n",
    "                return tab[ex.args[1]](interpret(tab, ex.args[2]))\n",
    "            else\n",
    "                return tab[ex.args[1]](tab)\n",
    "            end\n",
    "        else\n",
    "            throw(ArgumentError(\"Argument $(ex.args[1]) not present in symbol table.\"))\n",
    "        end\n",
    "    else\n",
    "        throw(Error(\"Expression type not supported: $(ex.head)\"))\n",
    "    end\n",
    "end\n",
    "\n",
    "res = interpret(SymbolTable(g_example), expr)"
   ]
  },
  {
   "cell_type": "code",
   "execution_count": null,
   "metadata": {},
   "outputs": [],
   "source": [
    "# tab_char = Dict{Symbol, Any}(:char => SymbolTable(g_char))\n",
    "grammar_example = merge_grammar([g_char, g_gtm])\n",
    "tab = SymbolTable(grammar_example)\n",
    "println(tab)\n",
    "\n",
    "output1 = x -> get_output_from_stack(:output1, :char, x)\n",
    "output2 = x -> get_output_from_stack(:output2, :char, x)\n",
    "\n",
    "input = x -> write_input_to_stack(:input, 'a', x)\n",
    "\n",
    "g_output = @csgrammar begin\n",
    "    Start = State\n",
    "    State = make_stacks()\n",
    "    State = output1(:output1, State)\n",
    "    State = output2(:output2, State)\n",
    "    State = input(:input, State)\n",
    "end\n",
    "println(g_output)\n",
    "tab = merge(tab, SymbolTable(g_output))\n",
    "\n",
    "input = Dict(:input => \"a\")\n",
    "input = init_gtm(input)\n",
    "input = merge(tab, input)\n",
    "stacks = make_stacks()\n",
    "input = merge(input, stacks)\n",
    "\n",
    "# println(input[:])\n",
    "ex = :(output1(char_isletter())) # should be true\n",
    "\n",
    "res = interpret(input, ex)"
   ]
  },
  {
   "cell_type": "code",
   "execution_count": null,
   "metadata": {},
   "outputs": [],
   "source": [
    "\n",
    "tab = merge(SymbolTable(g_gtm), merge(SymbolTable(g_integer), merge(SymbolTable(g_string), SymbolTable(g_char))))\n",
    "stacks = make_stacks()\n",
    "tab = merge(tab, stacks)\n",
    "tab\n",
    "ex = problem_coin_sums.examples[1]\n",
    "println(\"ex: \", ex)\n",
    "\n",
    "res = interpret(tab, ex)\n",
    "println(\"Res: \", res)\n"
   ]
  },
  {
   "cell_type": "code",
   "execution_count": null,
   "metadata": {},
   "outputs": [],
   "source": [
    "function my_evaluator(tab::SymbolTable, expr::Any, input::Dict)\n",
    "    println(\"Evaluating: \", expr)\n",
    "    # println(\"Input: \", input)\n",
    "    # println(\"Tab: \", tab)\n",
    "    res = interpret(merge(tab, input), expr)\n",
    "    println(res)\n",
    "    return res\n",
    "end\n",
    "\n",
    "\n",
    "g = merge_grammar([g_char, g_gtm, g_string, g_integer, g_in_out])\n",
    "sol = HerbSearch.search(g, problem_coin_sums, :Start, max_depth=1000,\n",
    "    evaluator=my_evaluator,\n",
    "    allow_evaluation_errors = false,\n",
    ")"
   ]
  }
 ],
 "metadata": {
  "kernelspec": {
   "display_name": "Julia 1.9.4",
   "language": "julia",
   "name": "julia-1.9"
  },
  "language_info": {
   "file_extension": ".jl",
   "mimetype": "application/julia",
   "name": "julia",
   "version": "1.9.4"
  }
 },
 "nbformat": 4,
 "nbformat_minor": 2
}
